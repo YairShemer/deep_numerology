{
  "nbformat": 4,
  "nbformat_minor": 0,
  "metadata": {
    "colab": {
      "name": "deep_numerology.ipynb",
      "provenance": [],
      "collapsed_sections": [],
      "include_colab_link": true
    },
    "kernelspec": {
      "name": "python3",
      "display_name": "Python 3"
    }
  },
  "cells": [
    {
      "cell_type": "markdown",
      "metadata": {
        "id": "view-in-github",
        "colab_type": "text"
      },
      "source": [
        "<a href=\"https://colab.research.google.com/github/YairShemer/deep_numerology/blob/master/deep_numerology.ipynb\" target=\"_parent\"><img src=\"https://colab.research.google.com/assets/colab-badge.svg\" alt=\"Open In Colab\"/></a>"
      ]
    },
    {
      "cell_type": "markdown",
      "metadata": {
        "id": "-b0oP4yhY90T",
        "colab_type": "text"
      },
      "source": [
        "# Deep Numerology \n",
        "In this program we train a neural network to transelate an english word by its numerology value. \n",
        "From Wikipedia:\n",
        "\"...It is also the study of the numerical value of the letters in words, names, and ideas.\"  \n",
        "For example, we can use the following dictionay (similar to hebrew (Gimatria):\n",
        "a=1, b=2,...,j=10,k=20,...,s=100,t=200,z=800.  \n",
        "For Example, the numerology value of the word \"hello\" is 133 since 8+5+30+30+60=133.\n"
      ]
    },
    {
      "cell_type": "markdown",
      "metadata": {
        "id": "uLUbxi5MdAp4",
        "colab_type": "text"
      },
      "source": [
        "## Import dependencies"
      ]
    },
    {
      "cell_type": "code",
      "metadata": {
        "id": "yTMLTJxidSjw",
        "colab_type": "code",
        "colab": {}
      },
      "source": [
        "import tensorflow as tf\n",
        "import numpy as np\n",
        "import string\n",
        "\n",
        "import logging\n",
        "logger = tf.get_logger()\n",
        "logger.setLevel(logging.ERROR)"
      ],
      "execution_count": 0,
      "outputs": []
    },
    {
      "cell_type": "markdown",
      "metadata": {
        "id": "FIxsgAgCdbtB",
        "colab_type": "text"
      },
      "source": [
        "## Set up training data"
      ]
    },
    {
      "cell_type": "code",
      "metadata": {
        "id": "XgHwuB_GdfuY",
        "colab_type": "code",
        "colab": {
          "base_uri": "https://localhost:8080/",
          "height": 137
        },
        "outputId": "9682e756-0160-4a9c-e52d-d4c9a4a6cae1"
      },
      "source": [
        "def string_vectorizer(strng, alphabet=string.ascii_lowercase):\n",
        "    vector = [[0 if char != letter else 1 for char in alphabet] \n",
        "                  for letter in strng]\n",
        "    return vector\n",
        "\n",
        "\n",
        "letters_array = list(string.ascii_lowercase)\n",
        "letter2num = {\n",
        "    'a':1,'b':2,'c':3,'d':4,'e':5,'f':6,'g':7,'h':8,'i':9,\n",
        "    'j':10,'k':20,'l':30,'m':40,'n':50,'o':60,'p':70,'q':80,'r':90,\n",
        "    's':100,'t':200,'u':300,'v':400,'w':500,'x':600,'y':700,'z':800\n",
        "}\n",
        "NUM_OF_TRAINIG_WORDS = 1000\n",
        "LENGTH_OF_WORDS = 5\n",
        "NUM_OF_EPOCHS = 500\n",
        "# words = np.chararray((NUM_OF_TRAINIG_WORDS, LENGTH_OF_WORDS)) \n",
        "words_arr = []\n",
        "words_onehot_arr = []\n",
        "numerology_arr = np.zeros(NUM_OF_TRAINIG_WORDS,dtype=float)\n",
        "\n",
        "for i in range(NUM_OF_TRAINIG_WORDS):\n",
        "  curr_word = ''\n",
        "  curr_word_onehot = []\n",
        "  curr_word_numerology = 0\n",
        "  for j in range(LENGTH_OF_WORDS):\n",
        "    # words[i,:] = np.random.choice(letters_array,LENGTH_OF_WORDS,replace=True)\n",
        "    curr_letter = np.random.choice(letters_array,1,replace=True)[0]\n",
        "    curr_word += curr_letter\n",
        "    curr_word_onehot.extend(string_vectorizer(curr_letter)[0])\n",
        "    curr_word_numerology += letter2num[curr_letter]\n",
        "  words_arr.append(curr_word)\n",
        "  words_onehot_arr.append(np.asarray(curr_word_onehot,dtype=float))\n",
        "  numerology_arr[i] = curr_word_numerology\n",
        "words_onehot_arr = np.asarray(words_onehot_arr)\n",
        "print(words_onehot_arr)\n",
        "# words_arr = np.asarray(words_arr)\n",
        "# print(words_arr)\n",
        "# print(numerology_arr)\n"
      ],
      "execution_count": 127,
      "outputs": [
        {
          "output_type": "stream",
          "text": [
            "[[0. 0. 0. ... 0. 0. 0.]\n",
            " [0. 0. 0. ... 0. 0. 0.]\n",
            " [0. 0. 0. ... 0. 0. 0.]\n",
            " ...\n",
            " [0. 0. 0. ... 0. 0. 0.]\n",
            " [0. 0. 0. ... 0. 0. 0.]\n",
            " [0. 0. 0. ... 0. 0. 0.]]\n"
          ],
          "name": "stdout"
        }
      ]
    },
    {
      "cell_type": "markdown",
      "metadata": {
        "id": "aH7869WAp9B7",
        "colab_type": "text"
      },
      "source": [
        "## Create the model"
      ]
    },
    {
      "cell_type": "markdown",
      "metadata": {
        "id": "lax5R0EPuhTU",
        "colab_type": "text"
      },
      "source": [
        "### Build a layer"
      ]
    },
    {
      "cell_type": "code",
      "metadata": {
        "id": "ypPA6ygKtO6S",
        "colab_type": "code",
        "colab": {}
      },
      "source": [
        "layer_0 = tf.keras.layers.Dense(units=1,input_shape=[LENGTH_OF_WORDS*len(letters_array)])"
      ],
      "execution_count": 0,
      "outputs": []
    },
    {
      "cell_type": "markdown",
      "metadata": {
        "id": "xMeVnst_un6y",
        "colab_type": "text"
      },
      "source": [
        "### Assemble layers into the model"
      ]
    },
    {
      "cell_type": "code",
      "metadata": {
        "id": "zuG1HpvGuuc6",
        "colab_type": "code",
        "colab": {}
      },
      "source": [
        "model = tf.keras.Sequential([layer_0])"
      ],
      "execution_count": 0,
      "outputs": []
    },
    {
      "cell_type": "markdown",
      "metadata": {
        "id": "ZXzrYz2bu3HK",
        "colab_type": "text"
      },
      "source": [
        "## Compile the model, with loss and optimizer functions"
      ]
    },
    {
      "cell_type": "code",
      "metadata": {
        "id": "-9RvfiuFu-bx",
        "colab_type": "code",
        "colab": {}
      },
      "source": [
        "model.compile(loss='mean_squared_error', optimizer=tf.keras.optimizers.Adam(0.1))"
      ],
      "execution_count": 0,
      "outputs": []
    },
    {
      "cell_type": "markdown",
      "metadata": {
        "id": "26EuFTlQvNmU",
        "colab_type": "text"
      },
      "source": [
        "Train the model"
      ]
    },
    {
      "cell_type": "code",
      "metadata": {
        "id": "49Tod2nuvREh",
        "colab_type": "code",
        "colab": {}
      },
      "source": [
        "history = model.fit(words_onehot_arr, numerology_arr, epochs=NUM_OF_EPOCHS, verbose=False)"
      ],
      "execution_count": 0,
      "outputs": []
    },
    {
      "cell_type": "markdown",
      "metadata": {
        "id": "inMdNoecvr6T",
        "colab_type": "text"
      },
      "source": [
        "## Display training statistics"
      ]
    },
    {
      "cell_type": "code",
      "metadata": {
        "id": "nGpbXxxiv4Ab",
        "colab_type": "code",
        "colab": {
          "base_uri": "https://localhost:8080/",
          "height": 300
        },
        "outputId": "5472ba66-d261-47c1-c948-66ef5c25871d"
      },
      "source": [
        "import matplotlib.pyplot as plt\n",
        "plt.xlabel('Epoch Number')\n",
        "plt.ylabel('Loss Mugnitude')\n",
        "plt.plot(history.history['loss'])"
      ],
      "execution_count": 132,
      "outputs": [
        {
          "output_type": "execute_result",
          "data": {
            "text/plain": [
              "[<matplotlib.lines.Line2D at 0x7fe57ef291d0>]"
            ]
          },
          "metadata": {
            "tags": []
          },
          "execution_count": 132
        },
        {
          "output_type": "display_data",
          "data": {
            "image/png": "[encoded data removed]",
            "text/plain": [
              "<Figure size 432x288 with 1 Axes>"
            ]
          },
          "metadata": {
            "tags": []
          }
        }
      ]
    },
    {
      "cell_type": "markdown",
      "metadata": {
        "id": "b0GlqUS0wVn1",
        "colab_type": "text"
      },
      "source": [
        "## Use the model to predict values"
      ]
    },
    {
      "cell_type": "code",
      "metadata": {
        "id": "NteLhTBBwZ1Y",
        "colab_type": "code",
        "colab": {
          "base_uri": "https://localhost:8080/",
          "height": 34
        },
        "outputId": "c1d7ed3d-2081-4286-8776-9141f1db1e2b"
      },
      "source": [
        "word = 'hello'\n",
        "word_onehot = string_vectorizer(word)\n",
        "word_onehot = np.asarray(word_onehot, dtype=float)\n",
        "word_onehot = np.array([[item for sublist in word_onehot for item in sublist]])\n",
        "print(model.predict(word_onehot))"
      ],
      "execution_count": 140,
      "outputs": [
        {
          "output_type": "stream",
          "text": [
            "[[133.45216]]\n"
          ],
          "name": "stdout"
        }
      ]
    },
    {
      "cell_type": "code",
      "metadata": {
        "id": "HLFvkrho3h7T",
        "colab_type": "code",
        "colab": {}
      },
      "source": [
        ""
      ],
      "execution_count": 0,
      "outputs": []
    }
  ]
}